{
  "cells": [
    {
      "cell_type": "markdown",
      "metadata": {
        "id": "view-in-github",
        "colab_type": "text"
      },
      "source": [
        "<a href=\"https://colab.research.google.com/github/Pasprihod/Butcamp.Modul-2/blob/main/%D0%94%D0%97_%D0%97%D0%BD%D0%B0%D0%BA%D0%BE%D0%BC%D1%81%D1%82%D0%B2%D0%BE_%D1%81_%D0%B1%D0%B8%D0%B1%D0%BB%D0%B8%D0%BE%D1%82%D0%B5%D0%BA%D0%B0%D0%BC%D0%B8.ipynb\" target=\"_parent\"><img src=\"https://colab.research.google.com/assets/colab-badge.svg\" alt=\"Open In Colab\"/></a>"
      ]
    },
    {
      "cell_type": "markdown",
      "id": "rubber-sport",
      "metadata": {
        "id": "rubber-sport"
      },
      "source": [
        "### Pandas\n",
        "\n",
        "Для некоторых заданий, возможно, придется обратиться к документации: https://pandas.pydata.org/docs/\n",
        "\n",
        "* Скачайте любой табличный датасет (или создайте тестовый пример самостоятельно), например, с https://www.kaggle.com/datasets\n",
        "\n",
        "*  Загрузите данные и проанализируйте их (используя функции .info и .describe)\n",
        "*  Выведите отдельно интересующую вас колонку и столбец"
      ]
    },
    {
      "cell_type": "code",
      "source": [
        "import pandas as pd\n",
        "data = pd.read_csv('/content/sample_data/cars.csv')\n",
        "#data.info()\n",
        "# data.describe()\n",
        "# data.head(4)\n",
        "# data.to_csv('cars_copy.csv')\n",
        "# data['Price']\n",
        "#data.iloc[1]"
      ],
      "metadata": {
        "colab": {
          "base_uri": "https://localhost:8080/"
        },
        "id": "DR2cS9p9eunI",
        "outputId": "28d9bc7d-ec6e-48ad-acf7-bb274131fe7d"
      },
      "id": "DR2cS9p9eunI",
      "execution_count": 43,
      "outputs": [
        {
          "output_type": "stream",
          "name": "stdout",
          "text": [
            "<class 'pandas.core.frame.DataFrame'>\n",
            "RangeIndex: 9330 entries, 0 to 9329\n",
            "Data columns (total 7 columns):\n",
            " #   Column          Non-Null Count  Dtype  \n",
            "---  ------          --------------  -----  \n",
            " 0   Car Names       9330 non-null   object \n",
            " 1   Mileages        9330 non-null   object \n",
            " 2   Ratings         9330 non-null   float64\n",
            " 3   Reviews         9330 non-null   object \n",
            " 4   used/certified  9330 non-null   object \n",
            " 5   price drop      9330 non-null   object \n",
            " 6   Price           9330 non-null   object \n",
            "dtypes: float64(1), object(6)\n",
            "memory usage: 510.4+ KB\n"
          ]
        },
        {
          "output_type": "execute_result",
          "data": {
            "text/plain": [
              "Car Names         2015 Chevrolet Corvette Stingray Z51\n",
              "Mileages                                    29,192 mi.\n",
              "Ratings                                            3.7\n",
              "Reviews                                    (3 reviews)\n",
              "used/certified                                    Used\n",
              "price drop                             $277 price drop\n",
              "Price                                          $52,000\n",
              "Name: 1, dtype: object"
            ]
          },
          "metadata": {},
          "execution_count": 43
        }
      ]
    },
    {
      "cell_type": "code",
      "source": [
        "from google.colab import drive\n",
        "drive.mount('/content/drive')"
      ],
      "metadata": {
        "id": "CLULgF_stUog"
      },
      "id": "CLULgF_stUog",
      "execution_count": null,
      "outputs": []
    },
    {
      "cell_type": "markdown",
      "id": "recovered-jordan",
      "metadata": {
        "id": "recovered-jordan"
      },
      "source": [
        "### Numpy\n",
        "\n",
        "Для некоторых заданий, возможно, придется обратиться к документации: https://numpy.org\n",
        "\n",
        "* Создайте вектор (одномерный массив) размера 10, заполненный нулями\n",
        "* Создайте вектор размера 10, заполненный числом 5.8\n",
        "* Создйте массив 3x3x3 со случайными значениями\n",
        "* Создайте 8x8 матрицу и заполнить её в шахматном порядке\n",
        "* Cоздайте матрицу 4 на 4 и заполните ее произвольными числами (понадобиться в дальйнешем)"
      ]
    },
    {
      "cell_type": "code",
      "source": [],
      "metadata": {
        "id": "aZO0B9nM2_Je"
      },
      "id": "aZO0B9nM2_Je",
      "execution_count": null,
      "outputs": []
    },
    {
      "cell_type": "code",
      "source": [
        "import numpy as np\n",
        "v1=np.zeros((10))\n",
        "v1"
      ],
      "metadata": {
        "id": "xwjplWCdeeTH"
      },
      "id": "xwjplWCdeeTH",
      "execution_count": null,
      "outputs": []
    },
    {
      "cell_type": "markdown",
      "source": [
        "Создайте вектор размера 10, заполненный числом 5.8"
      ],
      "metadata": {
        "id": "OHcHQFlM3IRD"
      },
      "id": "OHcHQFlM3IRD"
    },
    {
      "cell_type": "code",
      "source": [
        "v1 = np.full(10, 5.8)\n",
        "v1"
      ],
      "metadata": {
        "colab": {
          "base_uri": "https://localhost:8080/"
        },
        "id": "Z65hcGev3K_8",
        "outputId": "adf58538-2451-4cc3-d246-5d855cb7b094"
      },
      "id": "Z65hcGev3K_8",
      "execution_count": 63,
      "outputs": [
        {
          "output_type": "execute_result",
          "data": {
            "text/plain": [
              "array([5.8, 5.8, 5.8, 5.8, 5.8, 5.8, 5.8, 5.8, 5.8, 5.8])"
            ]
          },
          "metadata": {},
          "execution_count": 63
        }
      ]
    },
    {
      "cell_type": "markdown",
      "source": [
        "Создйте массив 3x3x3 со случайными значениями"
      ],
      "metadata": {
        "id": "10aI2W_e58w2"
      },
      "id": "10aI2W_e58w2"
    },
    {
      "cell_type": "code",
      "source": [
        "v = np.random.random((3,3,3))\n",
        "v"
      ],
      "metadata": {
        "colab": {
          "base_uri": "https://localhost:8080/"
        },
        "id": "kY9A-XQp5-SA",
        "outputId": "72b5999f-a85d-43ad-b23b-df3511605bc6"
      },
      "id": "kY9A-XQp5-SA",
      "execution_count": 68,
      "outputs": [
        {
          "output_type": "execute_result",
          "data": {
            "text/plain": [
              "array([[[0.2586293 , 0.84400973, 0.69408869],\n",
              "        [0.02497752, 0.30702096, 0.33708456],\n",
              "        [0.04150599, 0.56952519, 0.58369181]],\n",
              "\n",
              "       [[0.35891749, 0.48986226, 0.64233887],\n",
              "        [0.77464538, 0.60108248, 0.36856269],\n",
              "        [0.67443774, 0.29692793, 0.87519749]],\n",
              "\n",
              "       [[0.16351115, 0.01992379, 0.96762895],\n",
              "        [0.14256129, 0.53667538, 0.14750397],\n",
              "        [0.26347086, 0.09941774, 0.58341524]]])"
            ]
          },
          "metadata": {},
          "execution_count": 68
        }
      ]
    },
    {
      "cell_type": "markdown",
      "source": [
        "Создайте 8x8 матрицу и заполнить её в шахматном порядке"
      ],
      "metadata": {
        "id": "x_XoFzWu6gGU"
      },
      "id": "x_XoFzWu6gGU"
    },
    {
      "cell_type": "code",
      "source": [
        "v=np.zeros((8,8))\n",
        "v[0:8:2,1:8:2] = 1\n",
        "v[1::2,0::2] = 1\n",
        "v"
      ],
      "metadata": {
        "colab": {
          "base_uri": "https://localhost:8080/"
        },
        "id": "31RuI-YI6hLQ",
        "outputId": "32b4e389-0ee7-4f1b-9b29-5e6a68eee016"
      },
      "id": "31RuI-YI6hLQ",
      "execution_count": 79,
      "outputs": [
        {
          "output_type": "execute_result",
          "data": {
            "text/plain": [
              "array([[0., 1., 0., 1., 0., 1., 0., 1.],\n",
              "       [1., 0., 1., 0., 1., 0., 1., 0.],\n",
              "       [0., 1., 0., 1., 0., 1., 0., 1.],\n",
              "       [1., 0., 1., 0., 1., 0., 1., 0.],\n",
              "       [0., 1., 0., 1., 0., 1., 0., 1.],\n",
              "       [1., 0., 1., 0., 1., 0., 1., 0.],\n",
              "       [0., 1., 0., 1., 0., 1., 0., 1.],\n",
              "       [1., 0., 1., 0., 1., 0., 1., 0.]])"
            ]
          },
          "metadata": {},
          "execution_count": 79
        }
      ]
    },
    {
      "cell_type": "markdown",
      "source": [
        "Cоздайте матрицу 4 на 4 и заполните ее произвольными числами (понадобиться в дальйнешем"
      ],
      "metadata": {
        "id": "DFhDzR7K_iBO"
      },
      "id": "DFhDzR7K_iBO"
    },
    {
      "cell_type": "code",
      "source": [
        "mat_4x4 = np.array([[1,2,3,4],[5,6,7,8],[9,10,11,12],[13,14,15,16]])\n",
        "mat_4x4"
      ],
      "metadata": {
        "colab": {
          "base_uri": "https://localhost:8080/"
        },
        "id": "r4BHhzE5_jH2",
        "outputId": "73e99594-3e03-4348-f068-7241b571ae35"
      },
      "id": "r4BHhzE5_jH2",
      "execution_count": 84,
      "outputs": [
        {
          "output_type": "execute_result",
          "data": {
            "text/plain": [
              "array([[ 1,  2,  3,  4],\n",
              "       [ 5,  6,  7,  8],\n",
              "       [ 9, 10, 11, 12],\n",
              "       [13, 14, 15, 16]])"
            ]
          },
          "metadata": {},
          "execution_count": 84
        }
      ]
    },
    {
      "cell_type": "markdown",
      "id": "expired-hebrew",
      "metadata": {
        "id": "expired-hebrew"
      },
      "source": [
        "### Scipy\n",
        "\n",
        "\n",
        "* Возьмите интеграл $\\int_{-3}^{10} sin(x)* x^{2} \\,dx $\n",
        "* Найдите определитель, обратную матрицу и собственные значения к матрице из последнего пункта раздела Numpy\n"
      ]
    },
    {
      "cell_type": "markdown",
      "source": [
        "Возьмите интеграл  ∫10−3sin(x)∗x2dx"
      ],
      "metadata": {
        "id": "GLloArgCAZwU"
      },
      "id": "GLloArgCAZwU"
    },
    {
      "cell_type": "code",
      "source": [
        "import scipy\n",
        "f = lambda x: np.sin(x)*x**2\n",
        "integrate.quad(f, -3, 10)"
      ],
      "metadata": {
        "colab": {
          "base_uri": "https://localhost:8080/"
        },
        "id": "dNkjuSViAbAo",
        "outputId": "36852c96-56b1-47df-bbaf-b9f9017b3b7c"
      },
      "id": "dNkjuSViAbAo",
      "execution_count": 88,
      "outputs": [
        {
          "output_type": "execute_result",
          "data": {
            "text/plain": [
              "(63.57192010714263, 2.177803784883395e-12)"
            ]
          },
          "metadata": {},
          "execution_count": 88
        }
      ]
    },
    {
      "cell_type": "markdown",
      "source": [
        "Найдите определитель, обратную матрицу и собственные значения к матрице из последнего пункта раздела Numpy"
      ],
      "metadata": {
        "id": "yavj7bhNCHAS"
      },
      "id": "yavj7bhNCHAS"
    },
    {
      "cell_type": "code",
      "source": [
        "from scipy import linalg\n",
        "m=mat_4x4\n",
        "# m[0,0]=0\n",
        "m, linalg.det(m), linalg.inv(m), linalg.eig(m)"
      ],
      "metadata": {
        "colab": {
          "base_uri": "https://localhost:8080/"
        },
        "id": "spWNDvHgCIOh",
        "outputId": "16926cee-c217-4ef3-c2ef-22be2aa2c6b0"
      },
      "id": "spWNDvHgCIOh",
      "execution_count": 105,
      "outputs": [
        {
          "output_type": "execute_result",
          "data": {
            "text/plain": [
              "(array([[ 0,  2,  3,  4],\n",
              "        [ 5,  0,  7,  8],\n",
              "        [ 9, 10, 11, 12],\n",
              "        [13, 14, 15, 16]]),\n",
              " -24.000000000000114,\n",
              " array([[-1.00000000e+00,  9.99200722e-16,  3.00000000e+00,\n",
              "         -2.00000000e+00],\n",
              "        [ 4.30211422e-16, -1.66666667e-01,  3.33333333e-01,\n",
              "         -1.66666667e-01],\n",
              "        [ 3.00000000e+00,  3.33333333e-01, -1.36666667e+01,\n",
              "          9.33333333e+00],\n",
              "        [-2.00000000e+00, -1.66666667e-01,  1.00833333e+01,\n",
              "         -6.91666667e+00]]),\n",
              " (array([35.22756956+0.j, -0.04714239+0.j, -2.58083859+0.j, -5.59958859+0.j]),\n",
              "  array([[-0.15076787, -0.17539903,  0.88815323, -0.17231284],\n",
              "         [-0.30420432, -0.01717609, -0.16899616, -0.83053678],\n",
              "         [-0.55698581,  0.79256305, -0.09623872,  0.2603193 ],\n",
              "         [-0.75795487, -0.58376706, -0.41636791,  0.46124917]])))"
            ]
          },
          "metadata": {},
          "execution_count": 105
        }
      ]
    },
    {
      "cell_type": "markdown",
      "id": "alternate-classification",
      "metadata": {
        "id": "alternate-classification"
      },
      "source": [
        "### Matplotlib/Seaborn\n",
        "\n",
        "\n",
        "* Нарисуйте график sin(x), подпишите оси, добавьте сетку\n",
        "* Нарисуйте график sin(x) и cos(x) на одном subplot'е и на разных, задайте цвета, которые вам больше нравятся"
      ]
    },
    {
      "cell_type": "markdown",
      "source": [
        "Нарисуйте график sin(x), подпишите оси, добавьте сетку"
      ],
      "metadata": {
        "id": "a3j8P5DOFcRl"
      },
      "id": "a3j8P5DOFcRl"
    },
    {
      "cell_type": "code",
      "source": [
        "import matplotlib.pyplot as plt\n",
        "lag=np.pi/180\n",
        "x=np.arange(-np.pi, np.pi, lag)\n",
        "y=np.sin(x)\n",
        "fig = plt.subplots()\n",
        "plt.plot(x,y,'-')\n",
        "plt.grid()\n",
        "plt.title('sin(x)')\n",
        "plt.xlabel('x, rad')\n",
        "plt.ylabel('y')"
      ],
      "metadata": {
        "colab": {
          "base_uri": "https://localhost:8080/",
          "height": 313
        },
        "id": "WI-MdwihFdX0",
        "outputId": "297f371f-93ec-4211-ba63-180f4d25a67c"
      },
      "id": "WI-MdwihFdX0",
      "execution_count": 112,
      "outputs": [
        {
          "output_type": "execute_result",
          "data": {
            "text/plain": [
              "Text(0, 0.5, 'y')"
            ]
          },
          "metadata": {},
          "execution_count": 112
        },
        {
          "output_type": "display_data",
          "data": {
            "text/plain": [
              "<Figure size 432x288 with 1 Axes>"
            ],
            "image/png": "[encoded data removed]"
          },
          "metadata": {
            "needs_background": "light"
          }
        }
      ]
    },
    {
      "cell_type": "markdown",
      "source": [
        "Нарисуйте график sin(x) и cos(x) на одном subplot'е и на разных, задайте цвета, которые вам больше нравятся"
      ],
      "metadata": {
        "id": "p6ygQbleIeb8"
      },
      "id": "p6ygQbleIeb8"
    },
    {
      "cell_type": "code",
      "source": [
        "import matplotlib.pyplot as plt\n",
        "lag=np.pi/180\n",
        "x=np.arange(-np.pi, np.pi, lag)\n",
        "y=np.sin(x)\n",
        "y1 = np.cos(x)\n",
        "fig = plt.subplots()\n",
        "plt.plot(x,y,'-',x,y1,':')\n",
        "plt.grid()\n",
        "plt.title('sin(x),cos(x)')\n",
        "plt.xlabel('x, rad')\n",
        "plt.ylabel('y')"
      ],
      "metadata": {
        "colab": {
          "base_uri": "https://localhost:8080/",
          "height": 313
        },
        "id": "Q61acsA8IfPD",
        "outputId": "3eeaa940-f4ef-4c63-98f0-86c33df0420c"
      },
      "id": "Q61acsA8IfPD",
      "execution_count": 114,
      "outputs": [
        {
          "output_type": "execute_result",
          "data": {
            "text/plain": [
              "Text(0, 0.5, 'y')"
            ]
          },
          "metadata": {},
          "execution_count": 114
        },
        {
          "output_type": "display_data",
          "data": {
            "text/plain": [
              "<Figure size 432x288 with 1 Axes>"
            ],
            "image/png": "[encoded data removed]"
          },
          "metadata": {
            "needs_background": "light"
          }
        }
      ]
    },
    {
      "cell_type": "code",
      "execution_count": 122,
      "id": "facial-persian",
      "metadata": {
        "id": "facial-persian",
        "colab": {
          "base_uri": "https://localhost:8080/",
          "height": 368
        },
        "outputId": "041e7b16-84d9-47fd-8a47-f1deda5bc5f0"
      },
      "outputs": [
        {
          "output_type": "execute_result",
          "data": {
            "text/plain": [
              "Text(0, 0.5, 'y')"
            ]
          },
          "metadata": {},
          "execution_count": 122
        },
        {
          "output_type": "display_data",
          "data": {
            "text/plain": [
              "<Figure size 720x360 with 2 Axes>"
            ],
            "image/png": "[encoded data removed]"
          },
          "metadata": {
            "needs_background": "light"
          }
        }
      ],
      "source": [
        "import matplotlib.pyplot as plt\n",
        "lag=np.pi/180\n",
        "x=np.arange(-np.pi, np.pi, lag)\n",
        "y=np.sin(x)\n",
        "y1 = np.cos(x)\n",
        "\n",
        "plt.figure(figsize=(10,5))\n",
        "\n",
        "plt.subplot(1,2,1)\n",
        "plt.plot(x,y,'r-')\n",
        "plt.grid()\n",
        "plt.title('sin(x)')\n",
        "plt.xlabel('x, rad')\n",
        "plt.ylabel('y')\n",
        "\n",
        "plt.subplot(1,2,2)\n",
        "plt.plot(x,y1,'b-')\n",
        "plt.grid()\n",
        "plt.title('cos(x)')\n",
        "plt.xlabel('x, rad')\n",
        "plt.ylabel('y')"
      ]
    }
  ],
  "metadata": {
    "kernelspec": {
      "display_name": "Python 3",
      "language": "python",
      "name": "python3"
    },
    "language_info": {
      "codemirror_mode": {
        "name": "ipython",
        "version": 3
      },
      "file_extension": ".py",
      "mimetype": "text/x-python",
      "name": "python",
      "nbconvert_exporter": "python",
      "pygments_lexer": "ipython3",
      "version": "3.8.3"
    },
    "colab": {
      "provenance": [],
      "include_colab_link": true
    }
  },
  "nbformat": 4,
  "nbformat_minor": 5
}